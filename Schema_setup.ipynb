{
 "cells": [
  {
   "cell_type": "code",
   "execution_count": 0,
   "metadata": {
    "application/vnd.databricks.v1+cell": {
     "cellMetadata": {
      "byteLimit": 2048000,
      "rowLimit": 10000
     },
     "inputWidgets": {},
     "nuid": "dfef0553-0b23-4b87-a87a-701da8b0c770",
     "showTitle": false,
     "tableResultSettingsMap": {},
     "title": ""
    }
   },
   "outputs": [],
   "source": [
    "dbutils.widgets.text(name=\"env\",defaultValue=\"\",label=\" Enter the environment in lower case\")\n",
    "env = dbutils.widgets.get(\"env\")\n",
    "\n",
    "\n",
    "def create_bronze_schema():\n",
    "    spark.sql(f\"\"\"USE CATALOG hive_metastore\"\"\")\n",
    "    spark.sql(f\"\"\"\n",
    "    CREATE SCHEMA IF NOT EXISTS {env}_bronze\"\"\")\n",
    "\n",
    "def create_silver_schema():\n",
    "    spark.sql(f\"\"\"USE CATALOG hive_metastore\"\"\")\n",
    "    spark.sql(f\"\"\"\n",
    "    CREATE SCHEMA IF NOT EXISTS {env}_silver\"\"\")\n",
    "\n",
    "def create_gold_schema():\n",
    "    spark.sql(f\"\"\"USE CATALOG hive_metastore\"\"\")\n",
    "    spark.sql(f\"\"\"\n",
    "    CREATE SCHEMA IF NOT EXISTS {env}_gold\"\"\")\n",
    "\n",
    "\n",
    "def create_fundamental_table(path):\n",
    "    spark.sql(f\"\"\"CREATE TABLE IF NOT EXISTS hive_metastore.{env}_bronze.fundamentals (\n",
    "    symbol STRING,\n",
    "    shortName STRING,\n",
    "    sector STRING,\n",
    "    industry STRING,\n",
    "    country STRING,\n",
    "    currency STRING,\n",
    "    fullTimeEmployees DOUBLE,       -- was INT\n",
    "    marketCap DOUBLE,               -- was BIGINT\n",
    "    enterpriseValue DOUBLE,         -- was BIGINT\n",
    "    totalRevenue DOUBLE,            -- was BIGINT\n",
    "    netIncomeToCommon DOUBLE,       -- was BIGINT\n",
    "    profitMargins DOUBLE,\n",
    "    revenueGrowth DOUBLE,\n",
    "    ebitda DOUBLE,                  -- was BIGINT\n",
    "    enterpriseToRevenue DOUBLE,\n",
    "    enterpriseToEbitda DOUBLE,\n",
    "    bookValue DOUBLE,\n",
    "    priceToBook DOUBLE,\n",
    "    trailingPE DOUBLE,\n",
    "    forwardPE DOUBLE,\n",
    "    trailingEps DOUBLE,\n",
    "    forwardEps DOUBLE,\n",
    "    returnOnAssets DOUBLE,\n",
    "    returnOnEquity DOUBLE,\n",
    "    earningsQuarterlyGrowth DOUBLE,\n",
    "    ipoExpectedDate STRING, \n",
    "    extract_time TIMESTAMP,\n",
    "    extract_date DATE,\n",
    "    year INT,\n",
    "    month INT,\n",
    "    day INT\n",
    "    )\n",
    "    USING DELTA\n",
    "    PARTITIONED BY (year, month, day)\n",
    "    LOCATION '{path}/{env}/bronze/fundamentals';\"\"\")\n",
    "\n",
    "def create_prices_table(path):\n",
    "    spark.sql(f\"\"\"\n",
    "    CREATE TABLE IF NOT EXISTS hive_metastore.{env}_bronze.prices (\n",
    "        symbol STRING,\n",
    "        current_price DOUBLE,\n",
    "        open DOUBLE,\n",
    "        day_high DOUBLE,\n",
    "        day_low DOUBLE,\n",
    "        previous_close DOUBLE,\n",
    "        volume DOUBLE,\n",
    "        market_cap DOUBLE,\n",
    "        extract_time TIMESTAMP,\n",
    "        extract_date DATE,\n",
    "        year INT,\n",
    "        month INT,\n",
    "        day INT\n",
    "    )\n",
    "    USING DELTA\n",
    "    PARTITIONED BY (year, month, day)\n",
    "    LOCATION '{path}/{env}/bronze/prices';\n",
    "    \"\"\")\n",
    "\n",
    "def create_silver_fundamentals(path):\n",
    "    spark.sql(f\"\"\"\n",
    "    CREATE TABLE IF NOT EXISTS hive_metastore.{env}_silver.fundamentals (\n",
    "        symbol STRING,\n",
    "        shortName STRING,\n",
    "        sector STRING,\n",
    "        industry STRING,\n",
    "        country STRING,\n",
    "        currency STRING,\n",
    "        fullTimeEmployees BIGINT,\n",
    "        marketCap BIGINT,\n",
    "        enterpriseValue BIGINT,\n",
    "        totalRevenue BIGINT,\n",
    "        netIncomeToCommon BIGINT,\n",
    "        profitMargins DOUBLE,\n",
    "        revenueGrowth DOUBLE,\n",
    "        ebitda BIGINT,\n",
    "        enterpriseToRevenue DOUBLE,\n",
    "        enterpriseToEbitda DOUBLE,\n",
    "        bookValue DOUBLE,\n",
    "        priceToBook DOUBLE,\n",
    "        trailingPE DOUBLE,\n",
    "        forwardPE DOUBLE,\n",
    "        trailingEps DOUBLE,\n",
    "        forwardEps DOUBLE,\n",
    "        returnOnAssets DOUBLE,\n",
    "        returnOnEquity DOUBLE,\n",
    "        earningsQuarterlyGrowth DOUBLE,\n",
    "        ipoExpectedDate STRING,\n",
    "        extract_time TIMESTAMP,\n",
    "        extract_date DATE,\n",
    "        year INT,\n",
    "        month INT,\n",
    "        day INT,\n",
    "        marketCapCategory STRING,\n",
    "        employeeCountCategory STRING,\n",
    "        profitMarginCategory STRING,\n",
    "        revenueGrowthCategory STRING\n",
    "    )\n",
    "    USING DELTA\n",
    "    PARTITIONED BY (year, month, day)\n",
    "    LOCATION '{path}/{env}/silver/fundamentals';\n",
    "    \"\"\")\n",
    "    \n",
    "\n",
    "def create_silver_prices(path):\n",
    "    spark.sql(f\"\"\"\n",
    "    CREATE TABLE IF NOT EXISTS hive_metastore.{env}_silver.prices (\n",
    "        symbol STRING,\n",
    "        current_price DOUBLE,\n",
    "        open DOUBLE,\n",
    "        day_high DOUBLE,\n",
    "        day_low DOUBLE,\n",
    "        previous_close DOUBLE,\n",
    "        volume DOUBLE,\n",
    "        market_cap BIGINT,\n",
    "        extract_time TIMESTAMP,\n",
    "        extract_date DATE,\n",
    "        year INT,\n",
    "        month INT,\n",
    "        day INT\n",
    "    )\n",
    "    USING DELTA\n",
    "    PARTITIONED BY (year, month, day)\n",
    "    LOCATION '{path}/{env}/silver/prices';\n",
    "    \"\"\")\n",
    "\n",
    "\n",
    "def create_daily_aggregates(path):\n",
    "    spark.sql(f\"\"\"\n",
    "    CREATE TABLE IF NOT EXISTS hive_metastore.{env}_silver.daily_price_aggregates (\n",
    "    symbol STRING,\n",
    "    date DATE,\n",
    "    open DOUBLE,\n",
    "    day_high DOUBLE,\n",
    "    day_low DOUBLE,\n",
    "    avg_price DOUBLE,\n",
    "    volume DOUBLE,\n",
    "    year INT,\n",
    "    month INT,\n",
    "    day INT\n",
    ")\n",
    "USING DELTA\n",
    "PARTITIONED BY (year, month, day)\n",
    "LOCATION '{path}/{env}/silver/daily_price_aggregates';\n",
    "    \"\"\")\n",
    "\n",
    "\n",
    "def create_daily_indicators(path):\n",
    "    spark.sql(f\"\"\"\n",
    "    CREATE TABLE IF NOT EXISTS hive_metastore.{env}_gold.daily_price_indicators (\n",
    "    symbol STRING,\n",
    "    date DATE,\n",
    "    open DOUBLE,\n",
    "    day_high DOUBLE,\n",
    "    day_low DOUBLE,\n",
    "    avg_price DOUBLE,\n",
    "    volume DOUBLE,\n",
    "    year INT,\n",
    "    month INT,\n",
    "    day INT,\n",
    "\n",
    "    -- Moving Averages\n",
    "    ma_12 DOUBLE,\n",
    "    ma_26 DOUBLE,\n",
    "    ma_60 DOUBLE,\n",
    "\n",
    "    -- Exponential Moving Averages\n",
    "    ema_12 DOUBLE,\n",
    "    ema_26 DOUBLE,\n",
    "    ema_60 DOUBLE,\n",
    "\n",
    "    -- RSI\n",
    "    rsi_12 DOUBLE,\n",
    "    rsi_26 DOUBLE,\n",
    "    rsi_60 DOUBLE,\n",
    "\n",
    "    -- Bollinger Bands 12\n",
    "    bb_upper_12 DOUBLE,\n",
    "    bb_lower_12 DOUBLE,\n",
    "    bb_width_12 DOUBLE,\n",
    "\n",
    "    -- Bollinger Bands 26\n",
    "    bb_upper_26 DOUBLE,\n",
    "    bb_lower_26 DOUBLE,\n",
    "    bb_width_26 DOUBLE,\n",
    "\n",
    "    -- Bollinger Bands 60\n",
    "    bb_upper_60 DOUBLE,\n",
    "    bb_lower_60 DOUBLE,\n",
    "    bb_width_60 DOUBLE,\n",
    "\n",
    "    -- MACD and related\n",
    "    macd DOUBLE,\n",
    "    signal DOUBLE,\n",
    "    macd_hist DOUBLE,\n",
    "\n",
    "    -- OBV\n",
    "    obv DOUBLE\n",
    ")\n",
    "USING DELTA\n",
    "PARTITIONED BY (year, month, day)\n",
    "LOCATION '{path}/{env}/gold/daily_price_indicators';\n",
    "    \"\"\")\n",
    "\n",
    "\n",
    "bronze_path = 'abfss://stock-project-container@bgardzinski1stock.dfs.core.windows.net'\n",
    "create_bronze_schema()\n",
    "create_silver_schema()\n",
    "create_gold_schema()\n",
    "\n",
    "create_fundamental_table(bronze_path)\n",
    "create_prices_table(bronze_path)\n",
    "\n",
    "create_silver_fundamentals(bronze_path)\n",
    "create_silver_prices(bronze_path)\n",
    "create_daily_aggregates(bronze_path)\n",
    "\n",
    "create_daily_indicators(bronze_path)"
   ]
  },
  {
   "cell_type": "code",
   "execution_count": 0,
   "metadata": {
    "application/vnd.databricks.v1+cell": {
     "cellMetadata": {
      "byteLimit": 2048000,
      "implicitDf": true,
      "rowLimit": 10000
     },
     "inputWidgets": {},
     "nuid": "9a279afe-6c75-4cc8-8cf2-9f612e9b3b27",
     "showTitle": false,
     "tableResultSettingsMap": {},
     "title": ""
    }
   },
   "outputs": [],
   "source": [
    "%sql DROP TABLE IF EXISTS hive_metastore.dev_silver.prices;\n",
    "\n"
   ]
  },
  {
   "cell_type": "code",
   "execution_count": 0,
   "metadata": {
    "application/vnd.databricks.v1+cell": {
     "cellMetadata": {
      "byteLimit": 2048000,
      "implicitDf": true,
      "rowLimit": 10000
     },
     "inputWidgets": {},
     "nuid": "9987d299-ec11-41c5-a416-3d9af71e52bd",
     "showTitle": false,
     "tableResultSettingsMap": {},
     "title": ""
    }
   },
   "outputs": [],
   "source": [
    "%sql DROP TABLE IF EXISTS hive_metastore.dev_silver.fundamentals;\n"
   ]
  },
  {
   "cell_type": "code",
   "execution_count": 0,
   "metadata": {
    "application/vnd.databricks.v1+cell": {
     "cellMetadata": {
      "byteLimit": 2048000,
      "implicitDf": true,
      "rowLimit": 10000
     },
     "inputWidgets": {},
     "nuid": "b9e110a5-bc33-4307-a1f3-41d8957f485e",
     "showTitle": false,
     "tableResultSettingsMap": {},
     "title": ""
    }
   },
   "outputs": [],
   "source": [
    "%sql DROP TABLE IF EXISTS hive_metastore.dev_bronze.prices;\n"
   ]
  },
  {
   "cell_type": "code",
   "execution_count": 0,
   "metadata": {
    "application/vnd.databricks.v1+cell": {
     "cellMetadata": {
      "byteLimit": 2048000,
      "implicitDf": true,
      "rowLimit": 10000
     },
     "inputWidgets": {},
     "nuid": "9d6ba86f-01e8-432a-8145-baa77669bcca",
     "showTitle": false,
     "tableResultSettingsMap": {},
     "title": ""
    }
   },
   "outputs": [],
   "source": [
    "%sql DROP TABLE IF EXISTS hive_metastore.dev_bronze.fundamentals;\n"
   ]
  },
  {
   "cell_type": "code",
   "execution_count": 0,
   "metadata": {
    "application/vnd.databricks.v1+cell": {
     "cellMetadata": {
      "byteLimit": 2048000,
      "implicitDf": true,
      "rowLimit": 10000
     },
     "inputWidgets": {},
     "nuid": "39eceac2-6be6-4c64-a777-886a15f5a239",
     "showTitle": false,
     "tableResultSettingsMap": {},
     "title": ""
    }
   },
   "outputs": [],
   "source": [
    "%sql DROP TABLE IF EXISTS hive_metastore.dev_silver.daily_price_aggregates;"
   ]
  },
  {
   "cell_type": "code",
   "execution_count": 0,
   "metadata": {
    "application/vnd.databricks.v1+cell": {
     "cellMetadata": {},
     "inputWidgets": {},
     "nuid": "fb4e1a59-7e13-4859-8162-bfbf28c1c59a",
     "showTitle": false,
     "tableResultSettingsMap": {},
     "title": ""
    }
   },
   "outputs": [],
   "source": []
  }
 ],
 "metadata": {
  "application/vnd.databricks.v1+notebook": {
   "computePreferences": null,
   "dashboards": [],
   "environmentMetadata": {
    "base_environment": "",
    "environment_version": "2"
   },
   "inputWidgetPreferences": null,
   "language": "python",
   "notebookMetadata": {
    "mostRecentlyExecutedCommandWithImplicitDF": {
     "commandId": 5410755772925726,
     "dataframes": [
      "_sqldf"
     ]
    },
    "pythonIndentUnit": 4
   },
   "notebookName": "Schema_setup",
   "widgets": {
    "env": {
     "currentValue": "dev",
     "nuid": "8a8ca627-3749-496e-9d09-e56ceb90e8c5",
     "typedWidgetInfo": {
      "autoCreated": false,
      "defaultValue": "",
      "label": " Enter the environment in lower case",
      "name": "env",
      "options": {
       "widgetDisplayType": "Text",
       "validationRegex": null
      },
      "parameterDataType": "String"
     },
     "widgetInfo": {
      "widgetType": "text",
      "defaultValue": "",
      "label": " Enter the environment in lower case",
      "name": "env",
      "options": {
       "widgetType": "text",
       "autoCreated": null,
       "validationRegex": null
      }
     }
    }
   }
  },
  "language_info": {
   "name": "python"
  }
 },
 "nbformat": 4,
 "nbformat_minor": 0
}
