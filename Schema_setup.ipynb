{
 "cells": [
  {
   "cell_type": "code",
   "execution_count": 0,
   "metadata": {
    "application/vnd.databricks.v1+cell": {
     "cellMetadata": {
      "byteLimit": 2048000,
      "rowLimit": 10000
     },
     "inputWidgets": {},
     "nuid": "dfef0553-0b23-4b87-a87a-701da8b0c770",
     "showTitle": false,
     "tableResultSettingsMap": {},
     "title": ""
    }
   },
   "outputs": [],
   "source": [
    "dbutils.widgets.text(name=\"env\",defaultValue=\"\",label=\" Enter the environment in lower case\")\n",
    "env = dbutils.widgets.get(\"env\")\n",
    "\n",
    "\n",
    "def create_bronze_schema():\n",
    "    spark.sql(f\"\"\"USE CATALOG hive_metastore\"\"\")\n",
    "    spark.sql(f\"\"\"\n",
    "    CREATE SCHEMA IF NOT EXISTS {env}_bronze\"\"\")\n",
    "\n",
    "def create_silver_schema():\n",
    "    spark.sql(f\"\"\"USE CATALOG hive_metastore\"\"\")\n",
    "    spark.sql(f\"\"\"\n",
    "    CREATE SCHEMA IF NOT EXISTS {env}_silver\"\"\")\n",
    "\n",
    "\n",
    "def create_fundamental_table(path):\n",
    "    spark.sql(f\"\"\"CREATE TABLE IF NOT EXISTS hive_metastore.{env}_bronze.fundamentals (\n",
    "    symbol STRING,\n",
    "    shortName STRING,\n",
    "    sector STRING,\n",
    "    industry STRING,\n",
    "    country STRING,\n",
    "    currency STRING,\n",
    "    fullTimeEmployees STRING,       -- was INT\n",
    "    marketCap STRING,               -- was BIGINT\n",
    "    enterpriseValue STRING,         -- was BIGINT\n",
    "    totalRevenue STRING,            -- was BIGINT\n",
    "    netIncomeToCommon STRING,       -- was BIGINT\n",
    "    profitMargins DOUBLE,\n",
    "    revenueGrowth DOUBLE,\n",
    "    ebitda STRING,                  -- was BIGINT\n",
    "    enterpriseToRevenue DOUBLE,\n",
    "    enterpriseToEbitda DOUBLE,\n",
    "    bookValue DOUBLE,\n",
    "    priceToBook DOUBLE,\n",
    "    trailingPE DOUBLE,\n",
    "    forwardPE DOUBLE,\n",
    "    trailingEps DOUBLE,\n",
    "    forwardEps DOUBLE,\n",
    "    returnOnAssets DOUBLE,\n",
    "    returnOnEquity DOUBLE,\n",
    "    earningsQuarterlyGrowth DOUBLE,\n",
    "    ipoExpectedDate STRING, \n",
    "    extract_time TIMESTAMP,\n",
    "    extract_date DATE,\n",
    "    year INT,\n",
    "    month INT,\n",
    "    day INT\n",
    "    )\n",
    "    USING DELTA\n",
    "    PARTITIONED BY (year, month, day)\n",
    "    LOCATION '{path}/{env}/bronze/fundamentals';\"\"\")\n",
    "\n",
    "def create_prices_table(path):\n",
    "    spark.sql(f\"\"\"\n",
    "    CREATE TABLE IF NOT EXISTS hive_metastore.{env}_bronze.prices (\n",
    "        symbol STRING,\n",
    "        current_price DOUBLE,\n",
    "        open DOUBLE,\n",
    "        day_high DOUBLE,\n",
    "        day_low DOUBLE,\n",
    "        previous_close DOUBLE,\n",
    "        volume DOUBLE,\n",
    "        market_cap DOUBLE,\n",
    "        extract_time TIMESTAMP,\n",
    "        extract_date DATE,\n",
    "        year INT,\n",
    "        month INT,\n",
    "        day INT\n",
    "    )\n",
    "    USING DELTA\n",
    "    PARTITIONED BY (year, month, day)\n",
    "    LOCATION '{path}/{env}/bronze/prices';\n",
    "    \"\"\")\n",
    "\n",
    "bronze_path = 'abfss://stock-project-container@bgardzinski1stock.dfs.core.windows.net'\n",
    "create_bronze_schema()\n",
    "create_silver_schema()\n",
    "create_fundamental_table(bronze_path)\n",
    "create_prices_table(bronze_path)\n"
   ]
  },
  {
   "cell_type": "code",
   "execution_count": 0,
   "metadata": {
    "application/vnd.databricks.v1+cell": {
     "cellMetadata": {
      "byteLimit": 2048000,
      "implicitDf": true,
      "rowLimit": 10000
     },
     "inputWidgets": {},
     "nuid": "9a279afe-6c75-4cc8-8cf2-9f612e9b3b27",
     "showTitle": false,
     "tableResultSettingsMap": {},
     "title": ""
    }
   },
   "outputs": [],
   "source": [
    "%sql DROP TABLE IF EXISTS hive_metastore.dev_bronze.fundamentals;\n"
   ]
  },
  {
   "cell_type": "code",
   "execution_count": 0,
   "metadata": {
    "application/vnd.databricks.v1+cell": {
     "cellMetadata": {},
     "inputWidgets": {},
     "nuid": "9987d299-ec11-41c5-a416-3d9af71e52bd",
     "showTitle": false,
     "tableResultSettingsMap": {},
     "title": ""
    }
   },
   "outputs": [],
   "source": []
  }
 ],
 "metadata": {
  "application/vnd.databricks.v1+notebook": {
   "computePreferences": null,
   "dashboards": [],
   "environmentMetadata": {
    "base_environment": "",
    "environment_version": "2"
   },
   "inputWidgetPreferences": null,
   "language": "python",
   "notebookMetadata": {
    "mostRecentlyExecutedCommandWithImplicitDF": {
     "commandId": 5612982229564348,
     "dataframes": [
      "_sqldf"
     ]
    },
    "pythonIndentUnit": 4
   },
   "notebookName": "Schema_setup",
   "widgets": {
    "env": {
     "currentValue": "dev",
     "nuid": "8a8ca627-3749-496e-9d09-e56ceb90e8c5",
     "typedWidgetInfo": {
      "autoCreated": false,
      "defaultValue": "",
      "label": " Enter the environment in lower case",
      "name": "env",
      "options": {
       "widgetDisplayType": "Text",
       "validationRegex": null
      },
      "parameterDataType": "String"
     },
     "widgetInfo": {
      "widgetType": "text",
      "defaultValue": "",
      "label": " Enter the environment in lower case",
      "name": "env",
      "options": {
       "widgetType": "text",
       "autoCreated": null,
       "validationRegex": null
      }
     }
    }
   }
  },
  "language_info": {
   "name": "python"
  }
 },
 "nbformat": 4,
 "nbformat_minor": 0
}
