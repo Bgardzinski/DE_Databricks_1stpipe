{
 "cells": [
  {
   "cell_type": "code",
   "execution_count": 0,
   "metadata": {
    "application/vnd.databricks.v1+cell": {
     "cellMetadata": {
      "byteLimit": 2048000,
      "rowLimit": 10000
     },
     "inputWidgets": {},
     "nuid": "8079a67f-bd61-476a-b5d2-6b68082c5bd1",
     "showTitle": false,
     "tableResultSettingsMap": {},
     "title": ""
    }
   },
   "outputs": [],
   "source": [
    "dbutils.widgets.text(name=\"env\",defaultValue=\"\",label=\" Enter the environment in lower case\")\n",
    "env = dbutils.widgets.get(\"env\")\n",
    "\n",
    "from pyspark.sql.types import StructType, StructField, StringType, IntegerType, DoubleType, LongType, TimestampType, DateType\n",
    "\n",
    "path = f\"abfss://stock-project-container@bgardzinski1stock.dfs.core.windows.net/{env}\"\n",
    "\n",
    "input_path_pric = f\"{path}/raw-data/hourly_prices\"\n",
    "schema_loc_pric = f\"{path}/raw_data/_schema_autoloader/prices/\"\n",
    "checkpoint_loc_pric = f\"{path}/Bronze/_checkpoints/prices_stream/\"\n",
    "\n",
    "\n",
    "def read_prices_stream():\n",
    "    schema = StructType([\n",
    "    StructField(\"symbol\", StringType(), True),\n",
    "    StructField(\"current_price\", DoubleType(), True),\n",
    "    StructField(\"open\", DoubleType(), True),\n",
    "    StructField(\"day_high\", DoubleType(), True),\n",
    "    StructField(\"day_low\", DoubleType(), True),\n",
    "    StructField(\"previous_close\", DoubleType(), True),\n",
    "    StructField(\"volume\", DoubleType(), True),\n",
    "    StructField(\"market_cap\", DoubleType(), True),\n",
    "    StructField(\"extract_time\", TimestampType(), True),\n",
    "    StructField(\"extract_date\", DateType(), True),\n",
    "    StructField(\"year\", IntegerType(), True),  \n",
    "    StructField(\"month\", IntegerType(), True), \n",
    "    StructField(\"day\", IntegerType(), True) \n",
    "])\n",
    "\n",
    "    df = (\n",
    "        spark.readStream\n",
    "        .format(\"cloudFiles\")\n",
    "        .option(\"cloudFiles.format\", \"csv\")\n",
    "        .option(\"cloudFiles.schemaLocation\", schema_loc_pric)\n",
    "        .option(\"header\", \"true\")\n",
    "        .schema(schema)\n",
    "        .load(input_path_pric)\n",
    "    )\n",
    "\n",
    "    return df\n",
    "\n",
    "def write_prices(df):\n",
    "    query = (\n",
    "        df.writeStream \\\n",
    "    .format(\"delta\") \\\n",
    "    .option(\"checkpointLocation\", checkpoint_loc_pric) \\\n",
    "    .trigger(once=True) \\\n",
    "    .toTable(f\"hive_metastore.{env}_bronze.prices\") \\\n",
    "    .awaitTermination() )\n",
    "\n",
    "\n",
    "df = read_prices_stream()\n",
    "write_prices(df)"
   ]
  },
  {
   "cell_type": "code",
   "execution_count": 0,
   "metadata": {
    "application/vnd.databricks.v1+cell": {
     "cellMetadata": {},
     "inputWidgets": {},
     "nuid": "f9b80d99-9e54-438a-b24d-c56d5981808b",
     "showTitle": false,
     "tableResultSettingsMap": {},
     "title": ""
    }
   },
   "outputs": [],
   "source": []
  }
 ],
 "metadata": {
  "application/vnd.databricks.v1+notebook": {
   "computePreferences": null,
   "dashboards": [],
   "environmentMetadata": {
    "base_environment": "",
    "environment_version": "3"
   },
   "inputWidgetPreferences": null,
   "language": "python",
   "notebookMetadata": {
    "pythonIndentUnit": 4
   },
   "notebookName": "Bronze_prices_load",
   "widgets": {
    "env": {
     "currentValue": "dev",
     "nuid": "1a57b706-c5a3-43c5-a442-d85e18888910",
     "typedWidgetInfo": {
      "autoCreated": false,
      "defaultValue": "",
      "label": " Enter the environment in lower case",
      "name": "env",
      "options": {
       "widgetDisplayType": "Text",
       "validationRegex": null
      },
      "parameterDataType": "String"
     },
     "widgetInfo": {
      "widgetType": "text",
      "defaultValue": "",
      "label": " Enter the environment in lower case",
      "name": "env",
      "options": {
       "widgetType": "text",
       "autoCreated": false,
       "validationRegex": null
      }
     }
    }
   }
  },
  "language_info": {
   "name": "python"
  }
 },
 "nbformat": 4,
 "nbformat_minor": 0
}
