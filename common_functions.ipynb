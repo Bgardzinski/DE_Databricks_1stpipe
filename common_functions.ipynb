{
 "cells": [
  {
   "cell_type": "code",
   "execution_count": 0,
   "metadata": {
    "application/vnd.databricks.v1+cell": {
     "cellMetadata": {
      "byteLimit": 2048000,
      "rowLimit": 10000
     },
     "inputWidgets": {},
     "nuid": "7df68dd9-a59d-4cdf-a2d3-c9e0cc7b90ca",
     "showTitle": false,
     "tableResultSettingsMap": {},
     "title": ""
    }
   },
   "outputs": [],
   "source": [
    "from pyspark.sql.functions import col, trim\n",
    "from pyspark.sql.types import IntegerType,LongType\n",
    "from functools import reduce\n",
    "from operator import and_\n",
    "\n",
    "def cast_ints(bronze_df, int_columns):\n",
    "\n",
    "    df_cleaned = bronze_df\n",
    "    for col_name in int_columns:\n",
    "        df_cleaned = df_cleaned.withColumn(col_name, col(col_name).cast(LongType()))\n",
    "        \n",
    "    return df_cleaned\n",
    "\n",
    "\n",
    "def filter_not_null(df, columns):\n",
    "\n",
    "    conditions = [col(c).isNotNull() for c in columns]\n",
    "    combined_condition = reduce(and_, conditions)\n",
    "\n",
    "    return df.filter(combined_condition)\n",
    "\n",
    "\n",
    "def drop_duplicates_on_columns(df, columns):\n",
    "    return df.dropDuplicates(columns)"
   ]
  },
  {
   "cell_type": "code",
   "execution_count": 0,
   "metadata": {
    "application/vnd.databricks.v1+cell": {
     "cellMetadata": {},
     "inputWidgets": {},
     "nuid": "e92f093e-c948-48b7-9d3b-a1c7d414d291",
     "showTitle": false,
     "tableResultSettingsMap": {},
     "title": ""
    }
   },
   "outputs": [],
   "source": []
  }
 ],
 "metadata": {
  "application/vnd.databricks.v1+notebook": {
   "computePreferences": null,
   "dashboards": [],
   "environmentMetadata": {
    "base_environment": "",
    "environment_version": "3"
   },
   "inputWidgetPreferences": null,
   "language": "python",
   "notebookMetadata": {
    "pythonIndentUnit": 4
   },
   "notebookName": "common_functions",
   "widgets": {}
  },
  "language_info": {
   "name": "python"
  }
 },
 "nbformat": 4,
 "nbformat_minor": 0
}
