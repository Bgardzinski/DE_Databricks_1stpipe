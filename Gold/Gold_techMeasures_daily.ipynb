{
 "cells": [
  {
   "cell_type": "code",
   "execution_count": 0,
   "metadata": {
    "application/vnd.databricks.v1+cell": {
     "cellMetadata": {
      "byteLimit": 2048000,
      "rowLimit": 10000
     },
     "inputWidgets": {},
     "nuid": "aad4b5af-767a-4152-ab1e-6e29c4b54c17",
     "showTitle": false,
     "tableResultSettingsMap": {},
     "title": ""
    }
   },
   "outputs": [],
   "source": [
    "dbutils.widgets.text(name=\"env\",defaultValue=\"\",label=\"Enter the environment in lower case\")\n",
    "env = dbutils.widgets.get(\"env\")\n",
    "\n",
    "from pyspark.sql.functions import lit, avg, pandas_udf, col, row_number\n",
    "from datetime import datetime, timedelta\n",
    "from pyspark.sql.types import StructType, StructField, StringType, DateType, DoubleType\n",
    "import pandas as pd\n",
    "from pyspark.sql.window import Window\n",
    "\n",
    "input_table = f\"{env}_silver.daily_price_aggregates\"\n",
    "windows = [100,60,30,10]\n",
    "\n",
    "def read_prices():\n",
    "\n",
    "    # Calculate start date 90 days ago (Python side)\n",
    "    start_date = (datetime.today() - timedelta(days=150)).date()\n",
    "\n",
    "    # Extract year and month from start_date\n",
    "    start_year = start_date.year\n",
    "    start_month = start_date.month\n",
    "\n",
    "    # Also get current year and month\n",
    "    current_year = datetime.today().year\n",
    "    current_month = datetime.today().month\n",
    "\n",
    "    df_recent = spark.table(input_table) \\\n",
    "        .filter(\n",
    "            ( (col(\"year\") == start_year) & (col(\"month\") >= start_month) ) |\n",
    "            ( (col(\"year\") > start_year) & (col(\"year\") < current_year) ) |\n",
    "            ( (col(\"year\") == current_year) & (col(\"month\") <= current_month) )\n",
    "        )\n",
    "\n",
    "    df_filtered = df_recent.filter(col(\"date\") >= lit(start_date.strftime(\"%Y-%m-%d\")))\n",
    "    window_spec = Window.partitionBy(\"symbol\").orderBy(col(\"date\").desc())\n",
    "    df_latest = df_filtered.withColumn(\"rn\", row_number().over(window_spec))\n",
    "\n",
    "    df_latest.show(10)\n",
    "\n",
    "    return df_latest\n",
    "\n",
    "#NULL WHEN NO LAST 60 day present!\n",
    "\n",
    "\n",
    "def moving_average(df_input, df_output, window_sizes):\n",
    "\n",
    "    exprs = []\n",
    "    for ws in window_sizes:\n",
    "        exprs.append(\n",
    "            avg(when(col(\"rn\") <= ws, col(\"avg_price\"))).alias(f\"ma_{ws}\")\n",
    "        )\n",
    "    ma_df = df_input.groupBy(\"symbol\").agg(*exprs)\n",
    "    df_output = df_output.join(ma_df, on=\"symbol\", how=\"inner\")\n",
    "\n",
    "    return df_output\n",
    "\n",
    "\n",
    "\n",
    "\n",
    "df_filtered = read_prices()\n",
    "df_result = df_filtered.filter(col(\"rn\") == 1).drop(\"rn\")\n",
    "\n",
    "df_result = moving_average(df_filtered, df_result, windows)\n",
    "\n",
    "\n"
   ]
  },
  {
   "cell_type": "code",
   "execution_count": 0,
   "metadata": {
    "application/vnd.databricks.v1+cell": {
     "cellMetadata": {},
     "inputWidgets": {},
     "nuid": "3160f002-598c-493e-a9e7-3b3481d13053",
     "showTitle": false,
     "tableResultSettingsMap": {},
     "title": ""
    }
   },
   "outputs": [],
   "source": []
  }
 ],
 "metadata": {
  "application/vnd.databricks.v1+notebook": {
   "computePreferences": null,
   "dashboards": [],
   "environmentMetadata": {
    "base_environment": "",
    "environment_version": "2"
   },
   "inputWidgetPreferences": null,
   "language": "python",
   "notebookMetadata": {
    "pythonIndentUnit": 4
   },
   "notebookName": "Gold_techMeasures_daily",
   "widgets": {
    "env": {
     "currentValue": "dev",
     "nuid": "10a4e55c-2959-49dd-a039-4843a2424b61",
     "typedWidgetInfo": {
      "autoCreated": false,
      "defaultValue": "",
      "label": "Enter the environment in lower case",
      "name": "env",
      "options": {
       "widgetDisplayType": "Text",
       "validationRegex": null
      },
      "parameterDataType": "String"
     },
     "widgetInfo": {
      "widgetType": "text",
      "defaultValue": "",
      "label": "Enter the environment in lower case",
      "name": "env",
      "options": {
       "widgetType": "text",
       "autoCreated": null,
       "validationRegex": null
      }
     }
    }
   }
  },
  "language_info": {
   "name": "python"
  }
 },
 "nbformat": 4,
 "nbformat_minor": 0
}
