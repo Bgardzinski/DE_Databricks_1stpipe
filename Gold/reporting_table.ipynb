{
 "cells": [
  {
   "cell_type": "code",
   "execution_count": 0,
   "metadata": {
    "application/vnd.databricks.v1+cell": {
     "cellMetadata": {
      "byteLimit": 2048000,
      "rowLimit": 10000
     },
     "inputWidgets": {},
     "nuid": "d45310d8-135e-437f-9842-cce4b2c288cf",
     "showTitle": false,
     "tableResultSettingsMap": {},
     "title": ""
    }
   },
   "outputs": [],
   "source": [
    "%run \"/Users/bartoszgardzinski1@gmail.com/DE_Databricks_1stpipe/utils/technical_indicators\""
   ]
  },
  {
   "cell_type": "code",
   "execution_count": 0,
   "metadata": {
    "application/vnd.databricks.v1+cell": {
     "cellMetadata": {
      "byteLimit": 2048000,
      "rowLimit": 10000
     },
     "inputWidgets": {},
     "nuid": "0697d71f-324e-4e6d-8965-7742e9d19754",
     "showTitle": false,
     "tableResultSettingsMap": {},
     "title": ""
    }
   },
   "outputs": [],
   "source": [
    "dbutils.widgets.text(name=\"env\",defaultValue=\"\",label=\"Enter the environment in lower case\")\n",
    "env = dbutils.widgets.get(\"env\")\n",
    "\n",
    "from pyspark.sql.functions import date_sub, current_date\n",
    "\n",
    "\n",
    "def read_prices():\n",
    "    return spark.readStream.table(f\"{env}_silver.prices\")\n",
    "\n",
    "def read_price_indicators():\n",
    "    five_days_ago = date_sub(current_date(), 5)\n",
    "    daily_indicators = spark.table(f\"{env}_gold.daily_price_indicators\").filter(col(\"date\") >= five_days_ago)\n",
    "    return daily_indicators\n",
    "\n",
    "def read_fundamentals():\n",
    "    five_days_ago = date_sub(current_date(), 5)\n",
    "    fundamentals = spark.table(f\"{env}_silver.fundamentals\").filter(col(\"date\") >= five_days_ago)\n",
    "    return fundamentals\n",
    "\n",
    "def \n",
    "\n",
    "\n",
    "\n"
   ]
  },
  {
   "cell_type": "code",
   "execution_count": 0,
   "metadata": {
    "application/vnd.databricks.v1+cell": {
     "cellMetadata": {},
     "inputWidgets": {},
     "nuid": "a38d5de1-b6ed-4e43-b44b-7682f40124c7",
     "showTitle": false,
     "tableResultSettingsMap": {},
     "title": ""
    }
   },
   "outputs": [],
   "source": []
  }
 ],
 "metadata": {
  "application/vnd.databricks.v1+notebook": {
   "computePreferences": null,
   "dashboards": [],
   "environmentMetadata": {
    "base_environment": "",
    "environment_version": "2"
   },
   "inputWidgetPreferences": null,
   "language": "python",
   "notebookMetadata": {
    "pythonIndentUnit": 4
   },
   "notebookName": "reporting_table",
   "widgets": {
    "env": {
     "currentValue": "",
     "nuid": "879fe583-2174-47f7-a577-e899928b052a",
     "typedWidgetInfo": {
      "autoCreated": false,
      "defaultValue": "",
      "label": "Enter the environment in lower case",
      "name": "env",
      "options": {
       "widgetDisplayType": "Text",
       "validationRegex": null
      },
      "parameterDataType": "String"
     },
     "widgetInfo": {
      "widgetType": "text",
      "defaultValue": "",
      "label": "Enter the environment in lower case",
      "name": "env",
      "options": {
       "widgetType": "text",
       "autoCreated": false,
       "validationRegex": null
      }
     }
    }
   }
  },
  "language_info": {
   "name": "python"
  }
 },
 "nbformat": 4,
 "nbformat_minor": 0
}
