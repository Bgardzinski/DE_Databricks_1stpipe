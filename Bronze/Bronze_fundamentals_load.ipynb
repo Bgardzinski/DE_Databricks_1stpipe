{
 "cells": [
  {
   "cell_type": "code",
   "execution_count": 0,
   "metadata": {
    "application/vnd.databricks.v1+cell": {
     "cellMetadata": {
      "byteLimit": 2048000,
      "rowLimit": 10000
     },
     "inputWidgets": {},
     "nuid": "b84eb40b-64aa-4557-b68a-9436490c2a46",
     "showTitle": false,
     "tableResultSettingsMap": {},
     "title": ""
    }
   },
   "outputs": [],
   "source": [
    "dbutils.widgets.text(name=\"env\",defaultValue=\"\",label=\" Enter the environment in lower case\")\n",
    "env = dbutils.widgets.get(\"env\")\n",
    "\n",
    "from pyspark.sql.types import StructType, StructField, StringType, IntegerType, DoubleType, LongType, TimestampType, DateType\n",
    "\n",
    "path = f\"abfss://stock-project-container@bgardzinski1stock.dfs.core.windows.net/{env}\"\n",
    "\n",
    "input_path_fund = f\"{path}/raw-data/daily-fundamentals\"\n",
    "schema_loc_fund = f\"{path}/raw-data/_schema_autoloader/fundamentals/\"\n",
    "checkpoint_loc_fund = f\"{path}/bronze/_checkpoints/fundamentals_stream/\"\n",
    "\n",
    "\n",
    "\n",
    "def read_fundamentals_stream():\n",
    "    schema = StructType([\n",
    "    StructField(\"symbol\", StringType(), True),\n",
    "    StructField(\"shortName\", StringType(), True),\n",
    "    StructField(\"sector\", StringType(), True),\n",
    "    StructField(\"industry\", StringType(), True),\n",
    "    StructField(\"country\", StringType(), True),\n",
    "    StructField(\"currency\", StringType(), True),\n",
    "    StructField(\"fullTimeEmployees\", StringType(), True),\n",
    "    StructField(\"marketCap\", StringType(), True),\n",
    "    StructField(\"enterpriseValue\", StringType(), True),\n",
    "    StructField(\"totalRevenue\", StringType(), True),\n",
    "    StructField(\"netIncomeToCommon\", StringType(), True),\n",
    "    StructField(\"profitMargins\", DoubleType(), True),\n",
    "    StructField(\"revenueGrowth\", DoubleType(), True),\n",
    "    StructField(\"ebitda\", StringType(), True),\n",
    "    StructField(\"enterpriseToRevenue\", DoubleType(), True),\n",
    "    StructField(\"enterpriseToEbitda\", DoubleType(), True),\n",
    "    StructField(\"bookValue\", DoubleType(), True),\n",
    "    StructField(\"priceToBook\", DoubleType(), True),\n",
    "    StructField(\"trailingPE\", DoubleType(), True),\n",
    "    StructField(\"forwardPE\", DoubleType(), True),\n",
    "    StructField(\"trailingEps\", DoubleType(), True),\n",
    "    StructField(\"forwardEps\", DoubleType(), True),\n",
    "    StructField(\"returnOnAssets\", DoubleType(), True),\n",
    "    StructField(\"returnOnEquity\", DoubleType(), True),\n",
    "    StructField(\"earningsQuarterlyGrowth\", DoubleType(), True),\n",
    "    StructField(\"ipoExpectedDate\", StringType(), True),\n",
    "    StructField(\"extract_time\", TimestampType(), True),\n",
    "    StructField(\"extract_date\", DateType(), True),\n",
    "    StructField(\"year\", IntegerType(), True),  \n",
    "    StructField(\"month\", IntegerType(), True), \n",
    "    StructField(\"day\", IntegerType(), True) \n",
    "])\n",
    "    df = (\n",
    "        spark.readStream\n",
    "        .format(\"cloudFiles\")\n",
    "        .option(\"cloudFiles.format\", \"csv\")\n",
    "        .option(\"cloudFiles.schemaLocation\", schema_loc_fund)\n",
    "        .option('header','true')\n",
    "        .schema(schema)\n",
    "        .load(input_path_fund)\n",
    "    )\n",
    "    return df\n",
    "\n",
    "def write_fundamentals(df):\n",
    "    query = (\n",
    "        df.writeStream \\\n",
    "    .format(\"delta\") \\\n",
    "    .option(\"checkpointLocation\", checkpoint_loc_fund) \\\n",
    "    .trigger(availableNow=True) \\\n",
    "    .toTable(f\"hive_metastore.{env}_bronze.fundamentals\") \\\n",
    "    .awaitTermination() )\n",
    "\n",
    "\n",
    "df = read_fundamentals_stream()\n",
    "write_fundamentals(df)\n",
    "\n",
    "\n",
    "    "
   ]
  },
  {
   "cell_type": "code",
   "execution_count": 0,
   "metadata": {
    "application/vnd.databricks.v1+cell": {
     "cellMetadata": {
      "byteLimit": 2048000,
      "rowLimit": 10000
     },
     "inputWidgets": {},
     "nuid": "8f761d87-3dd3-46b8-9abd-cbc6fb79653f",
     "showTitle": false,
     "tableResultSettingsMap": {},
     "title": ""
    }
   },
   "outputs": [],
   "source": [
    "spark.sql(\"DROP TABLE IF EXISTS hive_metastore.dev_silver.fundamentals\")"
   ]
  },
  {
   "cell_type": "code",
   "execution_count": 0,
   "metadata": {
    "application/vnd.databricks.v1+cell": {
     "cellMetadata": {
      "byteLimit": 2048000,
      "rowLimit": 10000
     },
     "inputWidgets": {},
     "nuid": "87f27a4b-ca68-4585-93f0-9621636deeab",
     "showTitle": false,
     "tableResultSettingsMap": {},
     "title": ""
    }
   },
   "outputs": [],
   "source": [
    "spark.sql(f\"DESCRIBE hive_metastore.{env}_bronze.fundamentals\").show(truncate=False)"
   ]
  },
  {
   "cell_type": "code",
   "execution_count": 0,
   "metadata": {
    "application/vnd.databricks.v1+cell": {
     "cellMetadata": {},
     "inputWidgets": {},
     "nuid": "6e5e8e09-a240-4089-8aad-e2d642367899",
     "showTitle": false,
     "tableResultSettingsMap": {},
     "title": ""
    }
   },
   "outputs": [],
   "source": []
  }
 ],
 "metadata": {
  "application/vnd.databricks.v1+notebook": {
   "computePreferences": null,
   "dashboards": [],
   "environmentMetadata": {
    "base_environment": "",
    "environment_version": "2"
   },
   "inputWidgetPreferences": null,
   "language": "python",
   "notebookMetadata": {
    "pythonIndentUnit": 4
   },
   "notebookName": "Bronze_fundamentals_load",
   "widgets": {
    "env": {
     "currentValue": "dev",
     "nuid": "b03ebf82-18b0-4f1f-816b-ab262850d3f0",
     "typedWidgetInfo": {
      "autoCreated": false,
      "defaultValue": "",
      "label": " Enter the environment in lower case",
      "name": "env",
      "options": {
       "widgetDisplayType": "Text",
       "validationRegex": null
      },
      "parameterDataType": "String"
     },
     "widgetInfo": {
      "widgetType": "text",
      "defaultValue": "",
      "label": " Enter the environment in lower case",
      "name": "env",
      "options": {
       "widgetType": "text",
       "autoCreated": null,
       "validationRegex": null
      }
     }
    }
   }
  },
  "language_info": {
   "name": "python"
  }
 },
 "nbformat": 4,
 "nbformat_minor": 0
}
