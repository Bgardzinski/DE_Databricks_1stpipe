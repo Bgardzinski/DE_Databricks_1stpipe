{
 "cells": [
  {
   "cell_type": "code",
   "execution_count": 0,
   "metadata": {
    "application/vnd.databricks.v1+cell": {
     "cellMetadata": {
      "byteLimit": 2048000,
      "rowLimit": 10000
     },
     "inputWidgets": {},
     "nuid": "09301ad2-41f4-432f-bffe-e2ae38351173",
     "showTitle": false,
     "tableResultSettingsMap": {},
     "title": ""
    }
   },
   "outputs": [],
   "source": [
    "dbutils.widgets.text(name=\"env\",defaultValue=\"\",label=\"Enter the environment in lower case\")\n",
    "env = dbutils.widgets.get(\"env\")\n",
    "\n",
    "from pyspark.sql.functions import to_date, first, max, min, avg, last, sum, year, month, dayofmonth, window\n",
    "from delta.tables import DeltaTable\n",
    "\n",
    "\n",
    "path = f\"abfss://stock-project-container@bgardzinski1stock.dfs.core.windows.net/{env}\"\n",
    "checkpoint_path = path + f\"/checkpoints/daily_price_aggregates\"\n",
    "target_table = f\"{env}_silver.daily_price_aggregates\"\n",
    "\n",
    "\n",
    "# Read streaming data from silver table\n",
    "df_stream = spark.readStream.table(f\"hive_metastore.{env}_silver.prices\") \\\n",
    "    .withWatermark(\"extract_time\", \"5 day\")\n",
    "\n",
    "\n",
    "#df_stream = spark.table(f\"hive_metastore.{env}_silver.prices\")\n",
    "\n",
    "# Aggregate daily OHLCV per symbol\n",
    "daily_agg = (\n",
    "    df_stream\n",
    "    .withColumn(\"extract_date\", to_date(\"extract_time\"))\n",
    "    .groupBy(\"symbol\", \"extract_date\")\n",
    "    .agg(\n",
    "        max(\"open\").alias(\"open\"),\n",
    "        max(\"day_high\").alias(\"day_high\"),\n",
    "        min(\"day_low\").alias(\"day_low\"),\n",
    "        avg(\"current_price\").alias(\"avg_price\"),\n",
    "        max(\"volume\").alias(\"volume\"),\n",
    "    )\n",
    "    .withColumnRenamed(\"extract_date\", \"date\")\n",
    ")\n",
    "\n",
    "daily_agg = daily_agg \\\n",
    "    .withColumn(\"year\", year(\"date\")) \\\n",
    "    .withColumn(\"month\", month(\"date\")) \\\n",
    "    .withColumn(\"day\", dayofmonth(\"date\"))\n",
    "\n",
    "#daily_agg.show(10)\n",
    "\n",
    "def upsert_to_delta(batch_df, batch_id):\n",
    "    delta_table = DeltaTable.forName(spark, target_table)\n",
    "    delta_table.alias(\"target\").merge(\n",
    "        batch_df.alias(\"source\"),\n",
    "        \"target.symbol = source.symbol AND target.date = source.date\"\n",
    "    ).whenMatchedUpdateAll() \\\n",
    "     .whenNotMatchedInsertAll() \\\n",
    "     .execute()\n",
    "\n",
    "\n",
    "query = (daily_agg.writeStream\n",
    "    .foreachBatch(upsert_to_delta)\n",
    "    .option(\"checkpointLocation\", checkpoint_path)\n",
    "    .outputMode(\"update\")\n",
    "    .trigger(availableNow=True)\n",
    "    .start())\n",
    "query.awaitTermination()"
   ]
  },
  {
   "cell_type": "code",
   "execution_count": 0,
   "metadata": {
    "application/vnd.databricks.v1+cell": {
     "cellMetadata": {
      "byteLimit": 2048000,
      "rowLimit": 10000
     },
     "inputWidgets": {},
     "nuid": "4f001217-a0b3-42f9-9d95-8ec20cfe0784",
     "showTitle": false,
     "tableResultSettingsMap": {},
     "title": ""
    }
   },
   "outputs": [],
   "source": [
    "spark.readStream.table(f\"hive_metastore.{env}_silver.prices\").isStreaming"
   ]
  },
  {
   "cell_type": "code",
   "execution_count": 0,
   "metadata": {
    "application/vnd.databricks.v1+cell": {
     "cellMetadata": {
      "byteLimit": 2048000,
      "rowLimit": 10000
     },
     "inputWidgets": {},
     "nuid": "ae02d7f5-14f8-4cf3-87a3-9bcbafad86a5",
     "showTitle": false,
     "tableResultSettingsMap": {},
     "title": ""
    }
   },
   "outputs": [],
   "source": [
    "spark.sql(f\"SELECT * FROM hive_metastore.{env}_silver.prices\").show()\n"
   ]
  },
  {
   "cell_type": "code",
   "execution_count": 0,
   "metadata": {
    "application/vnd.databricks.v1+cell": {
     "cellMetadata": {},
     "inputWidgets": {},
     "nuid": "319f6825-6aa3-41ea-a0b7-6d1b55eb1ca0",
     "showTitle": false,
     "tableResultSettingsMap": {},
     "title": ""
    }
   },
   "outputs": [],
   "source": []
  }
 ],
 "metadata": {
  "application/vnd.databricks.v1+notebook": {
   "computePreferences": null,
   "dashboards": [],
   "environmentMetadata": {
    "base_environment": "",
    "environment_version": "2"
   },
   "inputWidgetPreferences": null,
   "language": "python",
   "notebookMetadata": {
    "pythonIndentUnit": 4
   },
   "notebookName": "Silver_daily_aggregates",
   "widgets": {
    "env": {
     "currentValue": "dev",
     "nuid": "944c2757-3bcd-4353-9c64-2b685218ad5d",
     "typedWidgetInfo": {
      "autoCreated": false,
      "defaultValue": "",
      "label": "Enter the environment in lower case",
      "name": "env",
      "options": {
       "widgetDisplayType": "Text",
       "validationRegex": null
      },
      "parameterDataType": "String"
     },
     "widgetInfo": {
      "widgetType": "text",
      "defaultValue": "",
      "label": "Enter the environment in lower case",
      "name": "env",
      "options": {
       "widgetType": "text",
       "autoCreated": null,
       "validationRegex": null
      }
     }
    }
   }
  },
  "language_info": {
   "name": "python"
  }
 },
 "nbformat": 4,
 "nbformat_minor": 0
}
