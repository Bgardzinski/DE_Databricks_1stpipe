{
 "cells": [
  {
   "cell_type": "code",
   "execution_count": 0,
   "metadata": {
    "application/vnd.databricks.v1+cell": {
     "cellMetadata": {
      "byteLimit": 2048000,
      "rowLimit": 10000
     },
     "inputWidgets": {},
     "nuid": "b3d1d833-5358-454f-8425-fea961ff6dd4",
     "showTitle": false,
     "tableResultSettingsMap": {},
     "title": ""
    }
   },
   "outputs": [],
   "source": [
    "%run \"/Users/bartoszgardzinski1@gmail.com/DE_Databricks_1stpipe/common_functions\""
   ]
  },
  {
   "cell_type": "code",
   "execution_count": 0,
   "metadata": {
    "application/vnd.databricks.v1+cell": {
     "cellMetadata": {
      "byteLimit": 2048000,
      "rowLimit": 10000
     },
     "inputWidgets": {},
     "nuid": "7b4a1e53-3b71-47ae-a9a3-6eaced8b7b25",
     "showTitle": false,
     "tableResultSettingsMap": {},
     "title": ""
    }
   },
   "outputs": [],
   "source": [
    "dbutils.widgets.text(name=\"env\",defaultValue=\"\",label=\"Enter the environment in lower case\")\n",
    "env = dbutils.widgets.get(\"env\")\n",
    "\n",
    "path = f\"abfss://stock-project-container@bgardzinski1stock.dfs.core.windows.net/{env}/silver\"\n",
    "\n",
    "checkpoint_loc_fund = f\"{path}/_checkpoints/prices_stream/\"\n",
    "\n",
    "\n",
    "fundamentals_int_columns = [\n",
    "    \"market_cap\"]\n",
    "\n",
    "non_null_columns = [\n",
    "    \"symbol\",\n",
    "    \"open\",\n",
    "    \"extract_time\"]\n",
    "\n",
    "\n",
    "def read_prices():\n",
    "    return spark.readStream.table(f\"{env}_bronze.prices\")\n",
    "\n",
    "def write_prices(df):\n",
    "    df.writeStream.format(\"delta\") \\\n",
    "    .option(\"checkpointLocation\", checkpoint_loc_fund) \\\n",
    "    .trigger(availableNow=True) \\\n",
    "    .toTable(f\"hive_metastore.{env}_silver.prices\") \\\n",
    "    .awaitTermination()\n",
    "\n",
    "\n",
    "df = read_prices()\n",
    "\n",
    "#Cleaning and Type correction\n",
    "\n",
    "df = filter_not_null(df, non_null_columns)\n",
    "df = cast_ints(df, fundamentals_int_columns)\n",
    "#watermark\n",
    "df = df.withWatermark(\"extract_time\", \"2 days\")\n",
    "#drop duplicates\n",
    "df = drop_duplicates_on_columns(df, non_null_columns)\n",
    "\n",
    "write_prices(df)"
   ]
  },
  {
   "cell_type": "code",
   "execution_count": 0,
   "metadata": {
    "application/vnd.databricks.v1+cell": {
     "cellMetadata": {},
     "inputWidgets": {},
     "nuid": "010ed2d7-9193-4c35-8582-c31dbd3c5088",
     "showTitle": false,
     "tableResultSettingsMap": {},
     "title": ""
    }
   },
   "outputs": [],
   "source": []
  }
 ],
 "metadata": {
  "application/vnd.databricks.v1+notebook": {
   "computePreferences": null,
   "dashboards": [],
   "environmentMetadata": {
    "base_environment": "",
    "environment_version": "2"
   },
   "inputWidgetPreferences": null,
   "language": "python",
   "notebookMetadata": {
    "pythonIndentUnit": 4
   },
   "notebookName": "Silver_prices_load",
   "widgets": {
    "env": {
     "currentValue": "dev",
     "nuid": "33984661-db69-4b82-8977-78eae6ca56b9",
     "typedWidgetInfo": {
      "autoCreated": false,
      "defaultValue": "",
      "label": "Enter the environment in lower case",
      "name": "env",
      "options": {
       "widgetDisplayType": "Text",
       "validationRegex": null
      },
      "parameterDataType": "String"
     },
     "widgetInfo": {
      "widgetType": "text",
      "defaultValue": "",
      "label": "Enter the environment in lower case",
      "name": "env",
      "options": {
       "widgetType": "text",
       "autoCreated": null,
       "validationRegex": null
      }
     }
    }
   }
  },
  "language_info": {
   "name": "python"
  }
 },
 "nbformat": 4,
 "nbformat_minor": 0
}
