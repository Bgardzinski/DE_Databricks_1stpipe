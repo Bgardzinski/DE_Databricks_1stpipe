{
 "cells": [
  {
   "cell_type": "code",
   "execution_count": 0,
   "metadata": {
    "application/vnd.databricks.v1+cell": {
     "cellMetadata": {
      "byteLimit": 2048000,
      "rowLimit": 10000
     },
     "inputWidgets": {},
     "nuid": "b9ce233a-a8d8-47df-a3ad-837f9c22d2d8",
     "showTitle": false,
     "tableResultSettingsMap": {},
     "title": ""
    }
   },
   "outputs": [],
   "source": [
    "%run \"/Users/bartoszgardzinski1@gmail.com/DE_Databricks_1stpipe/common_functions\""
   ]
  },
  {
   "cell_type": "code",
   "execution_count": 0,
   "metadata": {
    "application/vnd.databricks.v1+cell": {
     "cellMetadata": {
      "byteLimit": 2048000,
      "rowLimit": 10000
     },
     "inputWidgets": {},
     "nuid": "e754b7dc-f395-4c0b-8b03-639e32ab06f2",
     "showTitle": false,
     "tableResultSettingsMap": {},
     "title": ""
    }
   },
   "outputs": [],
   "source": [
    "dbutils.widgets.text(name=\"env\",defaultValue=\"\",label=\"Enter the environment in lower case\")\n",
    "env = dbutils.widgets.get(\"env\")\n",
    "\n",
    "from pyspark.sql.functions import when, col\n",
    "\n",
    "path = f\"abfss://stock-project-container@bgardzinski1stock.dfs.core.windows.net/{env}/silver\"\n",
    "\n",
    "checkpoint_loc_fund = f\"{path}/_checkpoints/fundamentals_stream/\"\n",
    "\n",
    "fundamentals_int_columns = [\n",
    "    \"fullTimeEmployees\",\n",
    "    \"marketCap\",\n",
    "    \"enterpriseValue\",\n",
    "    \"totalRevenue\",\n",
    "    \"netIncomeToCommon\",\n",
    "    \"ebitda\"]\n",
    "\n",
    "non_null_columns = [\n",
    "    \"symbol\",\n",
    "    \"shortName\",\n",
    "    \"extract_time\"]\n",
    "\n",
    "def read_silver():\n",
    "    #return spark.read.table(f\"{env}_bronze.fundamentals\")\n",
    "    return spark.readStream.table(f\"{env}_bronze.fundamentals\")\n",
    "\n",
    "def write_silver(df):\n",
    "    df.writeStream.format(\"delta\") \\\n",
    "    .option(\"checkpointLocation\", checkpoint_loc_fund) \\\n",
    "    .trigger(availableNow=True) \\\n",
    "    .toTable(f\"hive_metastore.{env}_silver.fundamentals\") \\\n",
    "    .awaitTermination()\n",
    "\n",
    "def fundamentals_enrichments(df):\n",
    "    df = df.withColumn(\"marketCapCategory\",\n",
    "        when(col(\"marketCap\") >= 200_000_000_000, \"Mega Cap\")\n",
    "        .when(col(\"marketCap\") >= 10_000_000_000, \"Large Cap\")\n",
    "        .when(col(\"marketCap\") >= 2_000_000_000, \"Mid Cap\")\n",
    "        .otherwise(\"Small Cap\")\n",
    "    )\n",
    "\n",
    "    df = df.withColumn(\"employeeCountCategory\",\n",
    "        when(col(\"fullTimeEmployees\") >= 10000, \"Large Workforce\")\n",
    "        .when(col(\"fullTimeEmployees\") >= 1000, \"Medium Workforce\")\n",
    "        .otherwise(\"Small Workforce\")\n",
    "    )\n",
    "\n",
    "    df = df.withColumn(\"profitMarginCategory\",\n",
    "        when(col(\"profitMargins\") >= 0.2, \"High Margin\")\n",
    "        .when(col(\"profitMargins\") >= 0.05, \"Moderate Margin\")\n",
    "        .otherwise(\"Low Margin\")\n",
    "    )\n",
    "\n",
    "    df = df.withColumn(\"revenueGrowthCategory\",\n",
    "        when(col(\"revenueGrowth\") >= 0.15, \"High Growth\")\n",
    "        .when(col(\"revenueGrowth\") >= 0.05, \"Moderate Growth\")\n",
    "        .otherwise(\"Low or Negative Growth\")\n",
    "    )\n",
    "    return df\n",
    "\n",
    "\n",
    "df = read_silver()\n",
    "\n",
    "#Cleaning and Type correction\n",
    "\n",
    "df = filter_not_null(df, non_null_columns)\n",
    "df = cast_ints(df, fundamentals_int_columns)\n",
    "#setting Watermark\n",
    "df = df.withWatermark(\"extract_time\", \"2 days\")\n",
    "#dropping duplicates\n",
    "df = drop_duplicates_on_columns(df, non_null_columns)\n",
    "#new derived columns\n",
    "df = fundamentals_enrichments(df)\n",
    "\n",
    "\n",
    "write_silver(df)\n",
    "\n"
   ]
  },
  {
   "cell_type": "code",
   "execution_count": 0,
   "metadata": {
    "application/vnd.databricks.v1+cell": {
     "cellMetadata": {
      "byteLimit": 2048000,
      "rowLimit": 10000
     },
     "inputWidgets": {},
     "nuid": "d61fa060-a904-4965-ae00-ee178a16bd2a",
     "showTitle": false,
     "tableResultSettingsMap": {
      "0": {
       "dataGridStateBlob": "{\"version\":1,\"tableState\":{\"columnPinning\":{\"left\":[\"#row_number#\"],\"right\":[]},\"columnSizing\":{},\"columnVisibility\":{}},\"settings\":{\"columns\":{}},\"syncTimestamp\":1753532293284}",
       "filterBlob": null,
       "queryPlanFiltersBlob": null,
       "tableResultIndex": 0
      }
     },
     "title": ""
    }
   },
   "outputs": [],
   "source": [
    "df = spark.sql(\"SELECT * FROM hive_metastore.dev_silver.daily_price_aggregates\")\n",
    "pandas_df = df.limit(100).toPandas()\n",
    "display(pandas_df)"
   ]
  },
  {
   "cell_type": "code",
   "execution_count": 0,
   "metadata": {
    "application/vnd.databricks.v1+cell": {
     "cellMetadata": {
      "byteLimit": 2048000,
      "rowLimit": 10000
     },
     "inputWidgets": {},
     "nuid": "ce031b47-7083-4c32-8836-53ce434e251f",
     "showTitle": false,
     "tableResultSettingsMap": {},
     "title": ""
    }
   },
   "outputs": [],
   "source": [
    "spark.read.table(f\"{env}_bronze.fundamentals\").show()"
   ]
  },
  {
   "cell_type": "code",
   "execution_count": 0,
   "metadata": {
    "application/vnd.databricks.v1+cell": {
     "cellMetadata": {},
     "inputWidgets": {},
     "nuid": "8fbba3af-642f-45b5-b35c-03a80a6f240a",
     "showTitle": false,
     "tableResultSettingsMap": {},
     "title": ""
    }
   },
   "outputs": [],
   "source": []
  }
 ],
 "metadata": {
  "application/vnd.databricks.v1+notebook": {
   "computePreferences": null,
   "dashboards": [],
   "environmentMetadata": {
    "base_environment": "",
    "environment_version": "2"
   },
   "inputWidgetPreferences": null,
   "language": "python",
   "notebookMetadata": {
    "mostRecentlyExecutedCommandWithImplicitDF": {
     "commandId": -1,
     "dataframes": [
      "_sqldf"
     ]
    },
    "pythonIndentUnit": 4
   },
   "notebookName": "Silver_fundamentals_load",
   "widgets": {
    "env": {
     "currentValue": "dev",
     "nuid": "8578c024-774a-4ac0-8bb3-872e021ea7a6",
     "typedWidgetInfo": {
      "autoCreated": false,
      "defaultValue": "",
      "label": "Enter the environment in lower case",
      "name": "env",
      "options": {
       "widgetDisplayType": "Text",
       "validationRegex": null
      },
      "parameterDataType": "String"
     },
     "widgetInfo": {
      "widgetType": "text",
      "defaultValue": "",
      "label": "Enter the environment in lower case",
      "name": "env",
      "options": {
       "widgetType": "text",
       "autoCreated": null,
       "validationRegex": null
      }
     }
    }
   }
  },
  "language_info": {
   "name": "python"
  }
 },
 "nbformat": 4,
 "nbformat_minor": 0
}
